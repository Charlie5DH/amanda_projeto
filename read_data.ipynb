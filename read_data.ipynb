{
 "cells": [
  {
   "cell_type": "code",
   "execution_count": 1,
   "source": [
    "import pandas as pd\r\n",
    "import numpy as np\r\n",
    "import matplotlib.pyplot as plt\r\n",
    "import os"
   ],
   "outputs": [],
   "metadata": {}
  },
  {
   "cell_type": "code",
   "execution_count": 2,
   "source": [
    "print(np.version.version)\r\n",
    "names = os.listdir('./data/')\r\n",
    "variables = [\"GHIP_SMP22_Avg\", \"GHIP_SMP11_Avg\", \"TempAr_Avg\", \"GHIT_SMP22_Avg\"]"
   ],
   "outputs": [
    {
     "output_type": "stream",
     "name": "stdout",
     "text": [
      "1.20.1\n"
     ]
    }
   ],
   "metadata": {}
  },
  {
   "cell_type": "markdown",
   "source": [
    "```python\r\n",
    "for file in names[1:]:\r\n",
    "    data2 =  pd.read_csv((\"./data/\"+ file), index_col=[\"TIMESTAMP\"])\r\n",
    "    try:\r\n",
    "        df = pd.concat([df, data2[variables]], axis=0)\r\n",
    "    except:\r\n",
    "        df = pd.concat([df, data2[\"TempAr_Avg\"]], axis=0)\r\n",
    "\r\n",
    "df.drop([0], axis=1)\r\n",
    "```"
   ],
   "metadata": {}
  },
  {
   "cell_type": "code",
   "execution_count": 6,
   "source": [
    "df = pd.DataFrame([], columns=variables)\r\n",
    "df_GHIP_SMP22_Avg = pd.DataFrame([], columns=[\"GHIP_SMP22_Avg\"])\r\n",
    "df_GHIP_SMP11_Avg = pd.DataFrame([],columns=[\"GHIP_SMP11_Avg\"])\r\n",
    "df_TempAr_Avg = pd.DataFrame([],columns=[\"TempAr_Avg\"])\r\n",
    "df_GHIT_SMP22_Avg = pd.DataFrame([],columns=[\"GHIT_SMP22_Avg\"])\r\n",
    "\r\n",
    "for f in names[0:]:\r\n",
    "    data2 =  pd.read_csv((\"./data/\"+ names[3]), index_col=[\"TIMESTAMP\"])\r\n",
    "\r\n",
    "    if variables[0] in data2.columns:\r\n",
    "        df_GHIP_SMP22_Avg = pd.concat([df_GHIP_SMP22_Avg, data2[variables[0]]])\r\n",
    "        df_GHIP_SMP22_Avg[variables[0]] = df_GHIP_SMP22_Avg[0]\r\n",
    "        df_GHIP_SMP22_Avg = df_GHIP_SMP22_Avg.drop([0],axis=1)\r\n",
    "    if variables[1] in data2.columns:\r\n",
    "        df_GHIP_SMP11_Avg = pd.concat([df_GHIP_SMP11_Avg, data2[variables[1]]])\r\n",
    "        df_GHIP_SMP11_Avg[variables[1]] = df_GHIP_SMP11_Avg[0]\r\n",
    "        df_GHIP_SMP11_Avg = df_GHIP_SMP11_Avg.drop([0],axis=1)\r\n",
    "    if variables[2] in data2.columns:\r\n",
    "        df_TempAr_Avg = pd.concat([df_TempAr_Avg, data2[variables[2]]])\r\n",
    "        df_TempAr_Avg[variables[2]] = df_TempAr_Avg[0]\r\n",
    "        df_TempAr_Avg = df_TempAr_Avg.drop([0],axis=1)\r\n",
    "    if variables[3] in data2.columns:\r\n",
    "        df_GHIT_SMP22_Avg = pd.concat([df_GHIT_SMP22_Avg, data2[variables[3]]])\r\n",
    "        df_GHIT_SMP22_Avg[variables[3]] = df_GHIT_SMP22_Avg[0]\r\n",
    "        df_GHIT_SMP22_Avg = df_GHIT_SMP22_Avg.drop([0],axis=1)\r\n",
    "\r\n",
    "    # Concatenate all data\r\n",
    "    temp_df = pd.concat([df_GHIP_SMP22_Avg, df_GHIP_SMP11_Avg,df_TempAr_Avg,df_GHIT_SMP22_Avg], axis=1)\r\n",
    "    df = pd.concat([df, temp_df])\r\n",
    "\r\n",
    "### Cleaning dataset. The data is in string format, i'm casing it to float\r\n",
    "\r\n",
    "df = df.iloc[2:].reset_index()\r\n",
    "drop_index = df[df[\"index\"]==\"TS\"].index\r\n",
    "df= df.drop(drop_index)\r\n",
    "drop_index = df[df[\"TempAr_Avg\"]==\"Avg\"].index\r\n",
    "df= df.drop(drop_index)\r\n",
    "df = df.set_index([\"index\"], drop=True)\r\n",
    "df = df.astype(float, errors = 'raise')\r\n",
    "df"
   ],
   "outputs": [
    {
     "output_type": "execute_result",
     "data": {
      "text/html": [
       "<div>\n",
       "<style scoped>\n",
       "    .dataframe tbody tr th:only-of-type {\n",
       "        vertical-align: middle;\n",
       "    }\n",
       "\n",
       "    .dataframe tbody tr th {\n",
       "        vertical-align: top;\n",
       "    }\n",
       "\n",
       "    .dataframe thead th {\n",
       "        text-align: right;\n",
       "    }\n",
       "</style>\n",
       "<table border=\"1\" class=\"dataframe\">\n",
       "  <thead>\n",
       "    <tr style=\"text-align: right;\">\n",
       "      <th></th>\n",
       "      <th>GHIP_SMP22_Avg</th>\n",
       "      <th>GHIP_SMP11_Avg</th>\n",
       "      <th>TempAr_Avg</th>\n",
       "      <th>GHIT_SMP22_Avg</th>\n",
       "    </tr>\n",
       "    <tr>\n",
       "      <th>index</th>\n",
       "      <th></th>\n",
       "      <th></th>\n",
       "      <th></th>\n",
       "      <th></th>\n",
       "    </tr>\n",
       "  </thead>\n",
       "  <tbody>\n",
       "    <tr>\n",
       "      <th>2017-11-30 17:31:00</th>\n",
       "      <td>663.0</td>\n",
       "      <td>661.2</td>\n",
       "      <td>23.19801</td>\n",
       "      <td>652.4</td>\n",
       "    </tr>\n",
       "    <tr>\n",
       "      <th>2017-11-30 17:32:00</th>\n",
       "      <td>614.5</td>\n",
       "      <td>610.2</td>\n",
       "      <td>23.24622</td>\n",
       "      <td>605.3</td>\n",
       "    </tr>\n",
       "    <tr>\n",
       "      <th>2017-11-30 17:31:00</th>\n",
       "      <td>663.0</td>\n",
       "      <td>661.2</td>\n",
       "      <td>23.19801</td>\n",
       "      <td>652.4</td>\n",
       "    </tr>\n",
       "    <tr>\n",
       "      <th>2017-11-30 17:32:00</th>\n",
       "      <td>614.5</td>\n",
       "      <td>610.2</td>\n",
       "      <td>23.24622</td>\n",
       "      <td>605.3</td>\n",
       "    </tr>\n",
       "    <tr>\n",
       "      <th>2017-11-30 18:51:00</th>\n",
       "      <td>207.1</td>\n",
       "      <td>200.1</td>\n",
       "      <td>23.26507</td>\n",
       "      <td>200.0</td>\n",
       "    </tr>\n",
       "    <tr>\n",
       "      <th>...</th>\n",
       "      <td>...</td>\n",
       "      <td>...</td>\n",
       "      <td>...</td>\n",
       "      <td>...</td>\n",
       "    </tr>\n",
       "    <tr>\n",
       "      <th>2017-12-04 13:22:00</th>\n",
       "      <td>817.0</td>\n",
       "      <td>813.0</td>\n",
       "      <td>26.95458</td>\n",
       "      <td>802.0</td>\n",
       "    </tr>\n",
       "    <tr>\n",
       "      <th>2017-12-04 13:23:00</th>\n",
       "      <td>963.0</td>\n",
       "      <td>959.0</td>\n",
       "      <td>26.79201</td>\n",
       "      <td>956.0</td>\n",
       "    </tr>\n",
       "    <tr>\n",
       "      <th>2017-12-04 13:24:00</th>\n",
       "      <td>1019.0</td>\n",
       "      <td>1017.0</td>\n",
       "      <td>26.69907</td>\n",
       "      <td>1016.0</td>\n",
       "    </tr>\n",
       "    <tr>\n",
       "      <th>2017-12-04 13:25:00</th>\n",
       "      <td>971.0</td>\n",
       "      <td>967.0</td>\n",
       "      <td>26.49055</td>\n",
       "      <td>957.0</td>\n",
       "    </tr>\n",
       "    <tr>\n",
       "      <th>2017-12-04 15:24:00</th>\n",
       "      <td>887.0</td>\n",
       "      <td>883.0</td>\n",
       "      <td>26.97278</td>\n",
       "      <td>881.0</td>\n",
       "    </tr>\n",
       "  </tbody>\n",
       "</table>\n",
       "<p>47035 rows × 4 columns</p>\n",
       "</div>"
      ],
      "text/plain": [
       "                     GHIP_SMP22_Avg  GHIP_SMP11_Avg  TempAr_Avg  \\\n",
       "index                                                             \n",
       "2017-11-30 17:31:00           663.0           661.2    23.19801   \n",
       "2017-11-30 17:32:00           614.5           610.2    23.24622   \n",
       "2017-11-30 17:31:00           663.0           661.2    23.19801   \n",
       "2017-11-30 17:32:00           614.5           610.2    23.24622   \n",
       "2017-11-30 18:51:00           207.1           200.1    23.26507   \n",
       "...                             ...             ...         ...   \n",
       "2017-12-04 13:22:00           817.0           813.0    26.95458   \n",
       "2017-12-04 13:23:00           963.0           959.0    26.79201   \n",
       "2017-12-04 13:24:00          1019.0          1017.0    26.69907   \n",
       "2017-12-04 13:25:00           971.0           967.0    26.49055   \n",
       "2017-12-04 15:24:00           887.0           883.0    26.97278   \n",
       "\n",
       "                     GHIT_SMP22_Avg  \n",
       "index                                \n",
       "2017-11-30 17:31:00           652.4  \n",
       "2017-11-30 17:32:00           605.3  \n",
       "2017-11-30 17:31:00           652.4  \n",
       "2017-11-30 17:32:00           605.3  \n",
       "2017-11-30 18:51:00           200.0  \n",
       "...                             ...  \n",
       "2017-12-04 13:22:00           802.0  \n",
       "2017-12-04 13:23:00           956.0  \n",
       "2017-12-04 13:24:00          1016.0  \n",
       "2017-12-04 13:25:00           957.0  \n",
       "2017-12-04 15:24:00           881.0  \n",
       "\n",
       "[47035 rows x 4 columns]"
      ]
     },
     "metadata": {},
     "execution_count": 6
    }
   ],
   "metadata": {}
  },
  {
   "cell_type": "code",
   "execution_count": 7,
   "source": [
    "fig, ax1 = plt.subplots(1,1,figsize=(14,4))\r\n",
    "df[\"GHIP_SMP11_Avg\"].plot(ax=ax1)\r\n",
    "plt.tight_layout()"
   ],
   "outputs": [
    {
     "output_type": "display_data",
     "data": {
      "image/png": "[encoded data removed]",
      "text/plain": [
       "<Figure size 1008x288 with 1 Axes>"
      ]
     },
     "metadata": {
      "needs_background": "light"
     }
    }
   ],
   "metadata": {}
  },
  {
   "cell_type": "code",
   "execution_count": 226,
   "source": [
    "## Save the dataset to a file\r\n",
    "\r\n",
    "df.to_csv(\"dados_projeto.csv\")"
   ],
   "outputs": [],
   "metadata": {}
  }
 ],
 "metadata": {
  "orig_nbformat": 4,
  "language_info": {
   "name": "python",
   "version": "3.8.8",
   "mimetype": "text/x-python",
   "codemirror_mode": {
    "name": "ipython",
    "version": 3
   },
   "pygments_lexer": "ipython3",
   "nbconvert_exporter": "python",
   "file_extension": ".py"
  },
  "kernelspec": {
   "name": "python3",
   "display_name": "Python 3.8.8 64-bit ('base': conda)"
  },
  "interpreter": {
   "hash": "d4dfc995087f92ebf5ebd9a89444e20f91b5a0b65bb8fc713b313a85dcd8c5e3"
  }
 },
 "nbformat": 4,
 "nbformat_minor": 2
}